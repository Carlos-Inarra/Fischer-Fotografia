{
 "cells": [
  {
   "cell_type": "code",
   "execution_count": 1,
   "metadata": {},
   "outputs": [
    {
     "name": "stdout",
     "output_type": "stream",
     "text": [
      "https://api.whatsapp.com/send/?phone=5521984415565&text=Olá, tudo bem? Gostaria de solicitar um orçamento!\n",
      "\n"
     ]
    }
   ],
   "source": [
    "import webbrowser\n",
    "texto = \"\"\"Olá, tudo bem? Gostaria de solicitar um orçamento!\n",
    "\"\"\"\n",
    "print(f\"https://api.whatsapp.com/send/?phone=5521984415565&text={texto}\")"
   ]
  }
 ],
 "metadata": {
  "kernelspec": {
   "display_name": "Python 3",
   "language": "python",
   "name": "python3"
  },
  "language_info": {
   "codemirror_mode": {
    "name": "ipython",
    "version": 3
   },
   "file_extension": ".py",
   "mimetype": "text/x-python",
   "name": "python",
   "nbconvert_exporter": "python",
   "pygments_lexer": "ipython3",
   "version": "3.11.4"
  }
 },
 "nbformat": 4,
 "nbformat_minor": 2
}
